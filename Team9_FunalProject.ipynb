{
  "nbformat": 4,
  "nbformat_minor": 0,
  "metadata": {
    "colab": {
      "provenance": []
    },
    "kernelspec": {
      "name": "python3",
      "display_name": "Python 3"
    },
    "language_info": {
      "name": "python"
    }
  },
  "cells": [
    {
      "cell_type": "code",
      "execution_count": null,
      "metadata": {
        "id": "VQ7Dhwsz862u"
      },
      "outputs": [],
      "source": [
        "# import Google Drive\n",
        "import os\n",
        "from google.colab import drive\n",
        "drive.mount('/content/drive', force_remount=True)"
      ]
    },
    {
      "cell_type": "code",
      "source": [
        "# Clone YOLOv7 sourcecode\n",
        "!git clone https://github.com/WongKinYiu/yolov7.git"
      ],
      "metadata": {
        "id": "_9ssAbR89AQ2"
      },
      "execution_count": null,
      "outputs": []
    },
    {
      "cell_type": "code",
      "source": [
        "%cd yolov7"
      ],
      "metadata": {
        "id": "XOpF_Uw59Bxn"
      },
      "execution_count": null,
      "outputs": []
    },
    {
      "cell_type": "code",
      "source": [
        "!pip install -r requirements.txt"
      ],
      "metadata": {
        "id": "U0JQA_Tg9C-u"
      },
      "execution_count": null,
      "outputs": []
    },
    {
      "cell_type": "code",
      "source": [
        "# Get Training Weights - yolov7_training.pt\n",
        "!wget https://github.com/WongKinYiu/yolov7/releases/download/v0.1/yolov7_training.pt"
      ],
      "metadata": {
        "id": "jh6YSYfP9ER8"
      },
      "execution_count": null,
      "outputs": []
    },
    {
      "cell_type": "markdown",
      "source": [
        "## Prepare Training Data"
      ],
      "metadata": {
        "id": "efakh-Hx-e4A"
      }
    },
    {
      "cell_type": "code",
      "source": [
        "# Get Dataset\n",
        "# %cp [source]"
      ],
      "metadata": {
        "id": "T4XQhTu1-d3E"
      },
      "execution_count": null,
      "outputs": []
    },
    {
      "cell_type": "markdown",
      "source": [
        "## Training"
      ],
      "metadata": {
        "id": "CZVqssmk-CKt"
      }
    },
    {
      "cell_type": "code",
      "source": [
        "# Training with custom model\n",
        "!python train.py --workers 8 --device 0 --batch-size 20 --data data/customdata.yaml --img 640 640 --cfg cfg/training/yolov7.yaml --weights 'yolov7_training.pt' --name yolov7-custom --hyp data/hyp.scratch.custom.yaml --epochs 300"
      ],
      "metadata": {
        "id": "BFqx4kuK-FF3"
      },
      "execution_count": null,
      "outputs": []
    },
    {
      "cell_type": "markdown",
      "source": [
        "## Inference"
      ],
      "metadata": {
        "id": "wgmki3oj-FYf"
      }
    },
    {
      "cell_type": "code",
      "source": [
        "# Inference\n",
        "!python detect.py --weights runs/train/yolov7-custom9/weights/best.pt --conf 0.25 --img-size 640 --source inference/images/medicine.jpg --device 0"
      ],
      "metadata": {
        "id": "EUNWd3XZ-IQt"
      },
      "execution_count": null,
      "outputs": []
    }
  ]
}